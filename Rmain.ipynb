{
 "cells": [
  {
   "cell_type": "markdown",
   "id": "48aa7f1a",
   "metadata": {},
   "source": [
    "# Probability 2 Project\n",
    "### by Pooria Assarehha and Saba(Zahra) Mohammadkhani\n",
    "Description available in [here](Probability%202%20-%20Project.pdf)"
   ]
  },
  {
   "cell_type": "markdown",
   "id": "4a454054",
   "metadata": {},
   "source": [
    "# Step 1"
   ]
  },
  {
   "cell_type": "code",
   "execution_count": 2,
   "id": "10e3c4c1",
   "metadata": {},
   "outputs": [
    {
     "data": {
      "text/html": [
       "58"
      ],
      "text/latex": [
       "58"
      ],
      "text/markdown": [
       "58"
      ],
      "text/plain": [
       "[1] 58"
      ]
     },
     "metadata": {},
     "output_type": "display_data"
    }
   ],
   "source": [
    "raw_dat <- c(3, 9, 6, 6, 16, 6, 8, 10, 9, 12, 10, 9, 13, 6, 10, 7, 10, 4, 11, 11, 10, 4, 10, 10, 12, \n",
    "10, 13, 12, 10, 12, 11, 10, 11, 10, 10, 6, 16, 11, 11, 10, 10, 11, 5, 11, 5, 9, 10, \n",
    "10, 10, 10, 3, 7, 12, 11, 6, 8, 10, 12)\n",
    "\n",
    "n = length(raw_dat)\n",
    "n"
   ]
  },
  {
   "cell_type": "markdown",
   "id": "911cb33e",
   "metadata": {},
   "source": [
    "$$X_1, X_2, \\dots , X_{58} \\ \\stackrel{i.i.d.}{\\sim} \\ N(\\mu, \\sigma^2)$$\n",
    "\n",
    "Since $X_i$'s are normal, \n",
    "\n",
    "$\\overline{X} = \\frac{1}{n}\\sum_{i = 1}^{n = 58}X_i$ is an Unbaised Estimator for $\\mu$\n",
    "\n",
    "$S^2 = \\frac{1}{n-1}\\sum(X_i - \\overline{X})^2$ is an U.E for $\\sigma^2$"
   ]
  },
  {
   "cell_type": "code",
   "execution_count": 11,
   "id": "e02e8db4",
   "metadata": {},
   "outputs": [
    {
     "data": {
      "text/html": [
       "9.39655172413793"
      ],
      "text/latex": [
       "9.39655172413793"
      ],
      "text/markdown": [
       "9.39655172413793"
      ],
      "text/plain": [
       "[1] 9.396552"
      ]
     },
     "metadata": {},
     "output_type": "display_data"
    },
    {
     "data": {
      "text/html": [
       "7.85753176043557"
      ],
      "text/latex": [
       "7.85753176043557"
      ],
      "text/markdown": [
       "7.85753176043557"
      ],
      "text/plain": [
       "[1] 7.857532"
      ]
     },
     "metadata": {},
     "output_type": "display_data"
    }
   ],
   "source": [
    "xbar = mean(raw_dat)\n",
    "s2 = sum(sapply(raw_dat, function(x) return((x-xbar)^2)))/(n-1)\n",
    "xbar\n",
    "s2"
   ]
  },
  {
   "cell_type": "code",
   "execution_count": 15,
   "id": "e1149342",
   "metadata": {},
   "outputs": [],
   "source": [
    "rs = rnorm(1000, xbar, sqrt(s2))"
   ]
  },
  {
   "cell_type": "code",
   "execution_count": 19,
   "id": "e77dc002",
   "metadata": {},
   "outputs": [
    {
     "data": {
      "image/png": "[encoded data removed]",
      "text/plain": [
       "Plot with title \"Histogram of raw_dat\""
      ]
     },
     "metadata": {},
     "output_type": "display_data"
    },
    {
     "data": {
      "image/png": "[encoded data removed]",
      "text/plain": [
       "Plot with title \"Histogram of rs\""
      ]
     },
     "metadata": {},
     "output_type": "display_data"
    }
   ],
   "source": [
    "hist(raw_dat)\n",
    "hist(rs)"
   ]
  },
  {
   "cell_type": "markdown",
   "id": "c148b95a",
   "metadata": {},
   "source": [
    "According to the histogram of our Observed data, it may not be quiet right to assume normallity."
   ]
  },
  {
   "cell_type": "markdown",
   "id": "018abea6",
   "metadata": {},
   "source": [
    "# Step 2"
   ]
  },
  {
   "cell_type": "code",
   "execution_count": 20,
   "id": "fc306bac",
   "metadata": {},
   "outputs": [],
   "source": [
    "new_dat <- c(11, 12, 12, 1, 10, 11, 10)"
   ]
  },
  {
   "cell_type": "markdown",
   "id": "fa8f14b4",
   "metadata": {},
   "source": [
    "$$(Y_1, Y_2, \\dots, Y_7) \\, | \\, \\theta, \\lambda \\ \\stackrel{i.i.d}{\\sim} \\ N(\\theta, \\lambda) \\qquad \\theta \\ \\sim \\ N(\\mu, \\sigma^2) \\quad , \\quad \\lambda = 8.4$$"
   ]
  }
 ],
 "metadata": {
  "kernelspec": {
   "display_name": "R",
   "language": "R",
   "name": "ir"
  },
  "language_info": {
   "codemirror_mode": "r",
   "file_extension": ".r",
   "mimetype": "text/x-r-source",
   "name": "R",
   "pygments_lexer": "r",
   "version": "3.6.1"
  }
 },
 "nbformat": 4,
 "nbformat_minor": 5
}
