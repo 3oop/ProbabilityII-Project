{
 "cells": [
  {
   "cell_type": "markdown",
   "id": "48aa7f1a",
   "metadata": {},
   "source": [
    "# Probability 2 Project\n",
    "### by Pooria Assarehha and Saba(Zahra) Mohammadkhani\n",
    "Description available in [here](Probability%202%20-%20Project.pdf)"
   ]
  },
  {
   "cell_type": "markdown",
   "id": "4a454054",
   "metadata": {},
   "source": [
    "# Step 1"
   ]
  },
  {
   "cell_type": "code",
   "execution_count": 9,
   "id": "10e3c4c1",
   "metadata": {},
   "outputs": [
    {
     "data": {
      "text/html": [
       "58"
      ],
      "text/latex": [
       "58"
      ],
      "text/markdown": [
       "58"
      ],
      "text/plain": [
       "[1] 58"
      ]
     },
     "metadata": {},
     "output_type": "display_data"
    }
   ],
   "source": [
    "raw_dat <- c(3, 9, 6, 6, 16, 6, 8, 10, 9, 12, 10, 9, 13, 6, 10, 7, 10, 4, 11, 11, 10, 4, 10, 10, 12, \n",
    "10, 13, 12, 10, 12, 11, 10, 11, 10, 10, 6, 16, 11, 11, 10, 10, 11, 5, 11, 5, 9, 10, \n",
    "10, 10, 10, 3, 7, 12, 11, 6, 8, 10, 12)\n",
    "\n",
    "n = length(raw_dat)\n",
    "n"
   ]
  },
  {
   "cell_type": "markdown",
   "id": "911cb33e",
   "metadata": {},
   "source": [
    "$$X_1, X_2, \\dots , X_{58} \\ \\stackrel{i.i.d.}{\\sim} \\ N(\\mu, \\sigma^2)$$\n",
    "\n",
    "Since $X_i$'s are normal, \n",
    "\n",
    "$\\overline{X} = \\frac{1}{n}\\sum_{i = 1}^{n = 58}X_i$ is an Unbaised Estimator for $\\mu$\n",
    "\n",
    "$S^2 = \\frac{1}{n-1}\\sum(X_i - \\overline{X})^2$ is an U.E for $\\sigma^2$"
   ]
  },
  {
   "cell_type": "code",
   "execution_count": 10,
   "id": "e02e8db4",
   "metadata": {},
   "outputs": [
    {
     "data": {
      "text/html": [
       "9.39655172413793"
      ],
      "text/latex": [
       "9.39655172413793"
      ],
      "text/markdown": [
       "9.39655172413793"
      ],
      "text/plain": [
       "[1] 9.396552"
      ]
     },
     "metadata": {},
     "output_type": "display_data"
    },
    {
     "data": {
      "text/html": [
       "7.85753176043557"
      ],
      "text/latex": [
       "7.85753176043557"
      ],
      "text/markdown": [
       "7.85753176043557"
      ],
      "text/plain": [
       "[1] 7.857532"
      ]
     },
     "metadata": {},
     "output_type": "display_data"
    }
   ],
   "source": [
    "xbar = mean(raw_dat)\n",
    "s2 = sum(sapply(raw_dat, function(x) return((x-xbar)^2)))/(n-1)\n",
    "xbar\n",
    "s2"
   ]
  },
  {
   "cell_type": "code",
   "execution_count": 11,
   "id": "e1149342",
   "metadata": {},
   "outputs": [],
   "source": [
    "rs = rnorm(1000, xbar, sqrt(s2))"
   ]
  },
  {
   "cell_type": "code",
   "execution_count": 12,
   "id": "e77dc002",
   "metadata": {},
   "outputs": [
    {
     "data": {
      "image/png": "[encoded data removed]",
      "text/plain": [
       "Plot with title \"Histogram of raw_dat\""
      ]
     },
     "metadata": {},
     "output_type": "display_data"
    },
    {
     "data": {
      "image/png": "[encoded data removed]",
      "text/plain": [
       "Plot with title \"Histogram of rs\""
      ]
     },
     "metadata": {},
     "output_type": "display_data"
    }
   ],
   "source": [
    "hist(raw_dat)\n",
    "hist(rs)"
   ]
  },
  {
   "cell_type": "markdown",
   "id": "c148b95a",
   "metadata": {},
   "source": [
    "According to the histogram of our Observed data, it may not be quiet right to assume normallity."
   ]
  },
  {
   "cell_type": "markdown",
   "id": "018abea6",
   "metadata": {},
   "source": [
    "# Step 2"
   ]
  },
  {
   "cell_type": "code",
   "execution_count": 13,
   "id": "fc306bac",
   "metadata": {},
   "outputs": [
    {
     "data": {
      "text/html": [
       "731"
      ],
      "text/latex": [
       "731"
      ],
      "text/markdown": [
       "731"
      ],
      "text/plain": [
       "[1] 731"
      ]
     },
     "metadata": {},
     "output_type": "display_data"
    },
    {
     "data": {
      "text/html": [
       "67"
      ],
      "text/latex": [
       "67"
      ],
      "text/markdown": [
       "67"
      ],
      "text/plain": [
       "[1] 67"
      ]
     },
     "metadata": {},
     "output_type": "display_data"
    }
   ],
   "source": [
    "new_dat <- c(11, 12, 12, 1, 10, 11, 10)\n",
    "sum(sapply(new_dat, function(x) x^2))\n",
    "sum(new_dat)"
   ]
  },
  {
   "cell_type": "markdown",
   "id": "fa8f14b4",
   "metadata": {},
   "source": [
    "$$Y_1, Y_2, \\dots, Y_7 \\, | \\, \\theta, \\lambda \\ \\stackrel{i.i.d}{\\sim} \\ N(\\theta, \\lambda) \\qquad \\theta \\ \\sim \\ N(\\mu, \\sigma^2) \\quad , \\quad \\lambda = 8.4$$"
   ]
  },
  {
   "cell_type": "markdown",
   "id": "19b3808e",
   "metadata": {},
   "source": [
    "$$f_{\\theta|\\underline{Y}} = \\frac{f_{\\underline{Y}|\\theta}f_{\\theta}(t)}{f_{\\underline{Y}}} \\stackrel{i.i.d.}{\\Rightarrow} = \\frac{f_{\\theta}(t)\\prod_{i=1}^n f_{Y_i|\\theta}(y_i)}{f_{\\underline{Y}}(\\stackrel{y}{\\sim})} = \\frac{f_{\\theta}(t)\\prod_{i=1}^n f_{Y_i|\\theta=t}(y_i)}{\\int f_{\\theta}(t)\\prod_{i=1}^n f_{Y_i|\\theta=t}(y_i) dt}$$ "
   ]
  },
  {
   "cell_type": "markdown",
   "id": "3e336b51",
   "metadata": {},
   "source": [
    "### $$\\begin{cases}g(t)\\rightarrow \\text{Normal kernel} \\\\\n",
    "A \\rightarrow \\text{coefficient not related to t}\\end{cases}\\quad\\Rightarrow\\quad \\frac{Ag(t)}{A\\int g(t)dt} = \\frac{g(t)}{B^{-1}} \\quad\\xrightarrow{B^{-1} \\ \\text{relative to g(t) normal coef}} f_{\\theta|\\underline{Y}=\\underline{y}}(t) = Bg(t) \\quad\\Rightarrow \\ \\sim \\ N(\\mu', \\sigma'^2)$$"
   ]
  },
  {
   "cell_type": "markdown",
   "id": "880d2b91",
   "metadata": {},
   "source": [
    "# $$g(t) = e^{\\frac{-1}{2}\\left( \\frac{\\sum^n t^2 - 2\\sum^ny_i t }{\\lambda} + \\frac{t^2-2\\mu t}{\\sigma^2} + C\\right)} =\n",
    "e^{\\frac{-1}{2}\\left( \\frac{n\\sigma^2t^2 - 2\\sigma^2\\sum^ny_i t + \\lambda t^2-2\\lambda\\mu t }{\\lambda\\sigma^2} + C\\right)} = \n",
    "e^{\\frac{-(n\\sigma^2 +\\lambda )}{2\\lambda\\sigma^2}\\left( t^2 - 2(\\frac{\\sigma^2\\sum^ny_i + \\lambda\\mu}{n\\sigma^2 +\\lambda})t + C \\right)}$$"
   ]
  },
  {
   "cell_type": "markdown",
   "id": "f4131954",
   "metadata": {},
   "source": [
    "### $$ \\Rightarrow \\begin{align*}\n",
    "&\\mu' = \\frac{\\sigma^2\\sum^ny_i + \\lambda\\mu}{n\\sigma^2 +\\lambda} \\\\\n",
    "&\\sigma'^2 = \\frac{\\lambda\\sigma^2}{n\\sigma^2 +\\lambda}\\end{align*} \\quad \\theta|\\underline{Y} \\ \\sim \\ N\\left(\\frac{\\sigma^2\\sum^ny_i + \\lambda\\mu}{n\\sigma^2 +\\lambda} \\, , \\, \\frac{\\lambda\\sigma^2}{n\\sigma^2 +\\lambda} \\right)\n",
    "$$"
   ]
  },
  {
   "cell_type": "markdown",
   "id": "044cc335",
   "metadata": {},
   "source": [
    "$$\\begin{align*}\n",
    "& n = 7 \\\\\n",
    "& \\lambda = 8.4 \\\\\n",
    "& \\sum^n y_i = 67 \\\\\n",
    "& \\hat{\\mu} = 9.39655172413793 \\\\\n",
    "& \\hat{\\sigma}^2 = 7.85753176043557 \\\\\n",
    "\\end{align*} \\Rightarrow \n",
    "\\begin{cases}\n",
    "& \\hat{\\mu}' = 9.54825976315948 \\\\\n",
    "& \\hat{\\sigma}'^2  = 1.04101629029996 \\end{cases}$$"
   ]
  },
  {
   "cell_type": "code",
   "execution_count": 18,
   "id": "7676e936",
   "metadata": {},
   "outputs": [
    {
     "data": {
      "text/html": [
       "9.54825976315948"
      ],
      "text/latex": [
       "9.54825976315948"
      ],
      "text/markdown": [
       "9.54825976315948"
      ],
      "text/plain": [
       "[1] 9.54826"
      ]
     },
     "metadata": {},
     "output_type": "display_data"
    },
    {
     "data": {
      "text/html": [
       "1.04101629029996"
      ],
      "text/latex": [
       "1.04101629029996"
      ],
      "text/markdown": [
       "1.04101629029996"
      ],
      "text/plain": [
       "[1] 1.041016"
      ]
     },
     "metadata": {},
     "output_type": "display_data"
    }
   ],
   "source": [
    "cmu = (s2*67 + 8.4*xbar)/(7*s2 + 8.4)\n",
    "cs2 = 8.4*s2/(7*s2 + 8.4)\n",
    "cmu\n",
    "cs2"
   ]
  },
  {
   "cell_type": "code",
   "execution_count": 19,
   "id": "de9ef8af",
   "metadata": {},
   "outputs": [],
   "source": [
    "nrs = rnorm(1000, cmu, sqrt(cs2))"
   ]
  },
  {
   "cell_type": "code",
   "execution_count": 23,
   "id": "9e096c06",
   "metadata": {},
   "outputs": [
    {
     "data": {
      "image/png": "[encoded data removed]",
      "text/plain": [
       "Plot with title \"Histogram of nrs\""
      ]
     },
     "metadata": {},
     "output_type": "display_data"
    },
    {
     "data": {
      "image/png": "[encoded data removed]",
      "text/plain": [
       "Plot with title \"Histogram of rs\""
      ]
     },
     "metadata": {},
     "output_type": "display_data"
    }
   ],
   "source": [
    "hist(nrs)\n",
    "hist(rs)"
   ]
  },
  {
   "cell_type": "code",
   "execution_count": 25,
   "id": "e5a55a60",
   "metadata": {},
   "outputs": [
    {
     "data": {
      "image/png": "[encoded data removed]",
      "text/plain": [
       "Plot with title \"Histogram of raw_dat\""
      ]
     },
     "metadata": {},
     "output_type": "display_data"
    },
    {
     "data": {
      "image/png": "[encoded data removed]",
      "text/plain": [
       "Plot with title \"Histogram of c(raw_dat, new_dat)\""
      ]
     },
     "metadata": {},
     "output_type": "display_data"
    }
   ],
   "source": [
    "hist(raw_dat)\n",
    "hist(c(raw_dat,new_dat))"
   ]
  },
  {
   "cell_type": "markdown",
   "id": "7f21d887",
   "metadata": {},
   "source": [
    "f) honestly not at all. not the slightes improvement whatsoever."
   ]
  }
 ],
 "metadata": {
  "kernelspec": {
   "display_name": "R",
   "language": "R",
   "name": "ir"
  },
  "language_info": {
   "codemirror_mode": "r",
   "file_extension": ".r",
   "mimetype": "text/x-r-source",
   "name": "R",
   "pygments_lexer": "r",
   "version": "3.6.1"
  }
 },
 "nbformat": 4,
 "nbformat_minor": 5
}
