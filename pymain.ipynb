{
 "cells": [
  {
   "cell_type": "markdown",
   "id": "518928f4",
   "metadata": {},
   "source": [
    "# Probability 2 Project\n",
    "### by Pooria Assarehha and Saba(Zahra) Mohammadkhani\n",
    "Description available in [here](Probability%202%20-%20Project.pdf)"
   ]
  },
  {
   "cell_type": "markdown",
   "id": "e4ccc7ea",
   "metadata": {},
   "source": [
    "## Step 1"
   ]
  },
  {
   "cell_type": "code",
   "execution_count": 9,
   "id": "9fafe2d9",
   "metadata": {},
   "outputs": [
    {
     "name": "stdout",
     "output_type": "stream",
     "text": [
      "58\n"
     ]
    }
   ],
   "source": [
    "raw_dat = [3, 9, 6, 6, 16, 6, 8, 10, 9, 12, 10, 9, 13, 6, 10, 7, 10, 4, 11, 11, 10, 4, 10, 10, 12, \n",
    "10, 13, 12, 10, 12, 11, 10, 11, 10, 10, 6, 16, 11, 11, 10, 10, 11, 5, 11, 5, 9, 10, \n",
    "10, 10, 10, 3, 7, 12, 11, 6, 8, 10, 12]\n",
    "\n",
    "n = len(raw_dat)\n",
    "print(n)"
   ]
  },
  {
   "cell_type": "markdown",
   "id": "cf02f8b6",
   "metadata": {},
   "source": [
    "$$X_1, X_2, \\dots , X_{58} \\ \\stackrel{i.i.d.}{\\sim} \\ N(\\mu, \\sigma^2)$$\n",
    "\n",
    "Since $X_i$'s are normal, \n",
    "\n",
    "$\\overline{X} = \\frac{1}{n}\\sum_{i = 1}^{n = 58}X_i$ is an Unbaised Estimator for $\\mu$\n",
    "\n",
    "$S^2 = \\frac{1}{n-1}\\sum(X_i - \\overline{X})^2$ is an U.E for $\\sigma^2$"
   ]
  },
  {
   "cell_type": "code",
   "execution_count": 16,
   "id": "14577801",
   "metadata": {},
   "outputs": [
    {
     "name": "stdout",
     "output_type": "stream",
     "text": [
      "xbar = 9.39655172413793\n",
      "s2 = 7.857531760435574\n"
     ]
    }
   ],
   "source": [
    "xbar = sum(raw_dat)/n\n",
    "s2 = (1/(n-1))*sum([(i - xbar)**2 for i in raw_dat])\n",
    "print(f\"xbar = {xbar}\")\n",
    "print(f\"s2 = {s2}\")"
   ]
  }
 ],
 "metadata": {
  "kernelspec": {
   "display_name": "Python 3 (ipykernel)",
   "language": "python",
   "name": "python3"
  },
  "language_info": {
   "codemirror_mode": {
    "name": "ipython",
    "version": 3
   },
   "file_extension": ".py",
   "mimetype": "text/x-python",
   "name": "python",
   "nbconvert_exporter": "python",
   "pygments_lexer": "ipython3",
   "version": "3.9.15"
  }
 },
 "nbformat": 4,
 "nbformat_minor": 5
}
